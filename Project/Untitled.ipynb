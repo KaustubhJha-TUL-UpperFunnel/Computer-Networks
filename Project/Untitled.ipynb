{
 "cells": [
  {
   "cell_type": "code",
   "execution_count": 92,
   "metadata": {},
   "outputs": [],
   "source": [
    "import math\n",
    "def checkSumClientSideImplementation(string):\n",
    "    sixteenBitArr = []\n",
    "    binString = ''.join(format(ord(x),'b') for x in string)\n",
    "    adtZero = math.ceil(len(binString)/16)* 16 - len(binString)\n",
    "    appZero = '0'*adtZero\n",
    "    binString = appZero + binString\n",
    "    print(binString,len(binString))\n",
    "    for i in range(0,len(binString),16):\n",
    "        sixteenBitArr.append(binString[i:i+16])\n",
    "    sixteenBitArr = map(lambda string:'0b'+string ,sixteenBitArr)\n",
    "       \n",
    "    sumOfBnos = '0b0'\n",
    "    for i in sixteenBitArr:\n",
    "        sumOfBnos = bin(int(sumOfBnos[2:],2) + int(i[2:],2)) \n",
    "    \n",
    "    while(len(sumOfBnos)!=18):\n",
    "        sumOfBnos = bin(int(sumOfBnos[3:],2) + int(1,2))\n",
    "        \n",
    "    print(sumOfBnos)\n",
    "    \n",
    "    return ~sumOfBnos\n",
    "\n",
    "def checkSumServerSideImplementation(checksum,string):\n",
    "    sixteenBitArr = []\n",
    "    binString = ''.join(format(ord(x),'b') for x in string)\n",
    "    adtZero = math.ceil(len(binString)/16)* 16 - len(binString)\n",
    "    appZero = '0'*adtZero\n",
    "    binString = appZero + binString\n",
    "    print(binString,len(binString))\n",
    "    for i in range(0,len(binString),16):\n",
    "        sixteenBitArr.append(binString[i:i+16])\n",
    "    sixteenBitArr = map(lambda string:'0b'+string ,sixteenBitArr)\n",
    "       \n",
    "    sumOfBnos = '0b0'\n",
    "    for i in sixteenBitArr:\n",
    "        sumOfBnos = bin(int(sumOfBnos[2:],2) + int(i[2:],2))\n",
    "    sumOfBnos += checksum\n",
    "    \n",
    "    for i in sumOfBnos[2:]:\n",
    "        if i=='0':\n",
    "            print(\"error\")\n",
    "            return\n",
    "    print(\"no error\")\n",
    "    return\n",
    "    "
   ]
  },
  {
   "cell_type": "code",
   "execution_count": 93,
   "metadata": {},
   "outputs": [
    {
     "name": "stdout",
     "output_type": "stream",
     "text": [
      "000000000000011010001100101110110011011001101111 48\n",
      "0b1100001100110000\n"
     ]
    }
   ],
   "source": [
    "checkSumClientSideImplementation(\"hello\")"
   ]
  },
  {
   "cell_type": "code",
   "execution_count": null,
   "metadata": {},
   "outputs": [],
   "source": []
  },
  {
   "cell_type": "code",
   "execution_count": null,
   "metadata": {},
   "outputs": [],
   "source": []
  },
  {
   "cell_type": "code",
   "execution_count": null,
   "metadata": {},
   "outputs": [],
   "source": []
  }
 ],
 "metadata": {
  "kernelspec": {
   "display_name": "Python 3",
   "language": "python",
   "name": "python3"
  },
  "language_info": {
   "codemirror_mode": {
    "name": "ipython",
    "version": 3
   },
   "file_extension": ".py",
   "mimetype": "text/x-python",
   "name": "python",
   "nbconvert_exporter": "python",
   "pygments_lexer": "ipython3",
   "version": "3.7.3"
  }
 },
 "nbformat": 4,
 "nbformat_minor": 2
}
